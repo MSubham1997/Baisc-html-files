{
  "nbformat": 4,
  "nbformat_minor": 0,
  "metadata": {
    "colab": {
      "name": "Data structure.ipynb",
      "provenance": [],
      "authorship_tag": "ABX9TyOU0fHb48Ebd4Xgu1IfYgfX",
      "include_colab_link": true
    },
    "kernelspec": {
      "name": "python3",
      "display_name": "Python 3"
    },
    "language_info": {
      "name": "python"
    }
  },
  "cells": [
    {
      "cell_type": "markdown",
      "metadata": {
        "id": "view-in-github",
        "colab_type": "text"
      },
      "source": [
        "<a href=\"https://colab.research.google.com/github/MSubham1997/Baisc-html-files/blob/master/Data_structure.ipynb\" target=\"_parent\"><img src=\"https://colab.research.google.com/assets/colab-badge.svg\" alt=\"Open In Colab\"/></a>"
      ]
    },
    {
      "cell_type": "code",
      "metadata": {
        "colab": {
          "base_uri": "https://localhost:8080/"
        },
        "id": "bOJSqEz8AQ3W",
        "outputId": "5219827d-b969-4b62-f638-d222f343ba7e"
      },
      "source": [
        "numbers=[10,12,14,53,99.54]\n",
        "numbers[0]"
      ],
      "execution_count": 1,
      "outputs": [
        {
          "output_type": "execute_result",
          "data": {
            "text/plain": [
              "10"
            ]
          },
          "metadata": {
            "tags": []
          },
          "execution_count": 1
        }
      ]
    },
    {
      "cell_type": "code",
      "metadata": {
        "colab": {
          "base_uri": "https://localhost:8080/"
        },
        "id": "nWB8LrITJ6Uq",
        "outputId": "3e3f22ae-65d6-4f21-d395-36047fe3688e"
      },
      "source": [
        "print(numbers)"
      ],
      "execution_count": 2,
      "outputs": [
        {
          "output_type": "stream",
          "text": [
            "[10, 12, 14, 53, 99.54]\n"
          ],
          "name": "stdout"
        }
      ]
    },
    {
      "cell_type": "code",
      "metadata": {
        "colab": {
          "base_uri": "https://localhost:8080/"
        },
        "id": "De4ljxUlKCYz",
        "outputId": "65e8bd47-2ee3-467a-9d7b-e83ba2a4948c"
      },
      "source": [
        "print(numbers[4])"
      ],
      "execution_count": 4,
      "outputs": [
        {
          "output_type": "stream",
          "text": [
            "99.54\n"
          ],
          "name": "stdout"
        }
      ]
    },
    {
      "cell_type": "code",
      "metadata": {
        "colab": {
          "base_uri": "https://localhost:8080/"
        },
        "id": "vN0Jm7VbKGah",
        "outputId": "09a6bef2-a619-4e9a-a05e-35a4577c93ef"
      },
      "source": [
        "numbers[2]=2003\n",
        "print(numbers)"
      ],
      "execution_count": 5,
      "outputs": [
        {
          "output_type": "stream",
          "text": [
            "[10, 12, 2003, 53, 99.54]\n"
          ],
          "name": "stdout"
        }
      ]
    },
    {
      "cell_type": "code",
      "metadata": {
        "colab": {
          "base_uri": "https://localhost:8080/"
        },
        "id": "wZD5hNH4KiEj",
        "outputId": "d379c6d6-800c-4e19-ef7d-2579c4ca1c39"
      },
      "source": [
        "for num in numbers:\n",
        "  print(num)"
      ],
      "execution_count": 7,
      "outputs": [
        {
          "output_type": "stream",
          "text": [
            "10\n",
            "12\n",
            "2003\n",
            "53\n",
            "99.54\n"
          ],
          "name": "stdout"
        }
      ]
    },
    {
      "cell_type": "code",
      "metadata": {
        "colab": {
          "base_uri": "https://localhost:8080/"
        },
        "id": "z8H3HEQQK18M",
        "outputId": "4cd139a1-4b42-4f13-a161-37763d2639b6"
      },
      "source": [
        "i=0\n",
        "n=len(numbers)\n",
        "while(i<n):\n",
        "  print(numbers[i])\n",
        "  i=i+1\n",
        "\n",
        "print()"
      ],
      "execution_count": 8,
      "outputs": [
        {
          "output_type": "stream",
          "text": [
            "10\n",
            "12\n",
            "2003\n",
            "53\n",
            "99.54\n",
            "\n"
          ],
          "name": "stdout"
        }
      ]
    },
    {
      "cell_type": "code",
      "metadata": {
        "id": "LwBEZqDXLgII"
      },
      "source": [
        "class Node:\n",
        "  def __init__(self,data):\n",
        "    self.data=data\n",
        "    self.nextNode=None\n",
        "\n",
        "\n",
        "class LinkedList(object):\n",
        "  def __init__(self):\n",
        "    self.head=None\n",
        "    self.size=0\n",
        "\n",
        "\n",
        "  def insertStart(self,data):\n",
        "    self.size=self.size + 1\n",
        "    newNode =Node(data)\n",
        "\n",
        "\n",
        "    if not self.head:\n",
        "      self.head=newNode\n",
        "\n",
        "    else:\n",
        "      newNode.nextNode=self.head\n",
        "      self.head=newNode\n",
        "\n",
        "    def size(self):\n",
        "      return self.size\n",
        "\n",
        "    def size2(self):\n",
        "      actualNode=self.head\n",
        "      size=0\n",
        "      while actualNode is not Node:\n",
        "        size=size+1\n",
        "        actualNode=actualNode.nextNode\n",
        "        return size\n",
        "    # insertion at end\n",
        "    def insertEnd(self,data):\n",
        "      self.data=Node(data)\n",
        "      actualNode=self.head\n",
        "      \n",
        "\n",
        "      while actualNode.nextNode is not None:\n",
        "        actualNode=actualNode.nextNode\n",
        "      actualNode.nextNode=newNode \n",
        "\n",
        "    def traverseNode(self):\n",
        "\n",
        "      actualNode=self.head\n",
        "\n",
        "      while actualNode.nextNode is not None:\n",
        "        print(actualNode.data)\n",
        "        actualNode=actualNode.nextNode \n",
        "\n",
        "\n"
      ],
      "execution_count": 14,
      "outputs": []
    },
    {
      "cell_type": "code",
      "metadata": {
        "id": "3DfuT0Pqc-9W"
      },
      "source": [
        "\n"
      ],
      "execution_count": null,
      "outputs": []
    }
  ]
}